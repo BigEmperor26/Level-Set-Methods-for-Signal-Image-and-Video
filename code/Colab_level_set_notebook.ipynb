{
  "cells": [
    {
      "cell_type": "markdown",
      "metadata": {
        "id": "4sFmSyUids1_"
      },
      "source": [
        "# level set notebook\n",
        "\n",
        "with redistancing for image segmentation-contour detection.\n",
        "Computes a level set doing redistancing as the signed distance function. The F velocity is proportional to the gradient of image this. The level set stops at the edges of the image.\n"
      ]
    },
    {
      "cell_type": "markdown",
      "metadata": {
        "id": "CRZc4FRzds2L"
      },
      "source": [
        "## Requirements!\n",
        "- Python 3.8\n",
        "- numpy 1.21.5\n",
        "- opencv-python-4.5.5.64\n",
        "- scipy-1.8.0\n",
        "- skfmm 2022.3.26\n",
        "- Pillow 9.0.0\n",
        "- matplotlib 3.5.1\n",
        "\n",
        "To install these if you don't have run\n",
        "```\n",
        "pip install numpy\n",
        "pip install opencv-python\n",
        "pip install scipy\n",
        "pip install scikit-fmm\n",
        "pip install Pillow\n",
        "pip install matplotlib\n",
        "```\n",
        "\n",
        "**Warning.** Colab by default uses python 3.7 which is unsupported in this code"
      ]
    },
    {
      "cell_type": "markdown",
      "metadata": {
        "id": "k6VU3vWQeJGM"
      },
      "source": [
        "## Change Colab Python version"
      ]
    },
    {
      "cell_type": "code",
      "execution_count": null,
      "metadata": {
        "colab": {
          "base_uri": "https://localhost:8080/"
        },
        "id": "GEd4NBBrdviG",
        "outputId": "470f942b-00f1-4216-9663-7876fc937b93"
      },
      "outputs": [
        {
          "name": "stdout",
          "output_type": "stream",
          "text": [
            "--2022-04-09 08:35:52--  https://repo.anaconda.com/miniconda/Miniconda3-py38_4.8.2-Linux-x86_64.sh\n",
            "Resolving repo.anaconda.com (repo.anaconda.com)... 104.16.131.3, 104.16.130.3, 2606:4700::6810:8303, ...\n",
            "Connecting to repo.anaconda.com (repo.anaconda.com)|104.16.131.3|:443... connected.\n",
            "HTTP request sent, awaiting response... 200 OK\n",
            "Length: 89817099 (86M) [application/x-sh]\n",
            "Saving to: ‘mini.sh’\n",
            "\n",
            "mini.sh             100%[===================>]  85.66M  49.7MB/s    in 1.7s    \n",
            "\n",
            "2022-04-09 08:35:54 (49.7 MB/s) - ‘mini.sh’ saved [89817099/89817099]\n",
            "\n",
            "PREFIX=/usr/local\n",
            "Unpacking payload ...\n",
            "Collecting package metadata (current_repodata.json): - \b\b\\ \b\bdone\n",
            "Solving environment: / \b\b- \b\bdone\n",
            "\n",
            "## Package Plan ##\n",
            "\n",
            "  environment location: /usr/local\n",
            "\n",
            "  added / updated specs:\n",
            "    - _libgcc_mutex==0.1=main\n",
            "    - asn1crypto==1.3.0=py38_0\n",
            "    - ca-certificates==2020.1.1=0\n",
            "    - certifi==2019.11.28=py38_0\n",
            "    - cffi==1.14.0=py38h2e261b9_0\n",
            "    - chardet==3.0.4=py38_1003\n",
            "    - conda-package-handling==1.6.0=py38h7b6447c_0\n",
            "    - conda==4.8.2=py38_0\n",
            "    - cryptography==2.8=py38h1ba5d50_0\n",
            "    - idna==2.8=py38_1000\n",
            "    - ld_impl_linux-64==2.33.1=h53a641e_7\n",
            "    - libedit==3.1.20181209=hc058e9b_0\n",
            "    - libffi==3.2.1=hd88cf55_4\n",
            "    - libgcc-ng==9.1.0=hdf63c60_0\n",
            "    - libstdcxx-ng==9.1.0=hdf63c60_0\n",
            "    - ncurses==6.2=he6710b0_0\n",
            "    - openssl==1.1.1d=h7b6447c_4\n",
            "    - pip==20.0.2=py38_1\n",
            "    - pycosat==0.6.3=py38h7b6447c_0\n",
            "    - pycparser==2.19=py_0\n",
            "    - pyopenssl==19.1.0=py38_0\n",
            "    - pysocks==1.7.1=py38_0\n",
            "    - python==3.8.1=h0371630_1\n",
            "    - readline==7.0=h7b6447c_5\n",
            "    - requests==2.22.0=py38_1\n",
            "    - ruamel_yaml==0.15.87=py38h7b6447c_0\n",
            "    - setuptools==45.2.0=py38_0\n",
            "    - six==1.14.0=py38_0\n",
            "    - sqlite==3.31.1=h7b6447c_0\n",
            "    - tk==8.6.8=hbc83047_0\n",
            "    - tqdm==4.42.1=py_0\n",
            "    - urllib3==1.25.8=py38_0\n",
            "    - wheel==0.34.2=py38_0\n",
            "    - xz==5.2.4=h14c3975_4\n",
            "    - yaml==0.1.7=had09818_2\n",
            "    - zlib==1.2.11=h7b6447c_3\n",
            "\n",
            "\n",
            "The following NEW packages will be INSTALLED:\n",
            "\n",
            "  _libgcc_mutex      pkgs/main/linux-64::_libgcc_mutex-0.1-main\n",
            "  asn1crypto         pkgs/main/linux-64::asn1crypto-1.3.0-py38_0\n",
            "  ca-certificates    pkgs/main/linux-64::ca-certificates-2020.1.1-0\n",
            "  certifi            pkgs/main/linux-64::certifi-2019.11.28-py38_0\n",
            "  cffi               pkgs/main/linux-64::cffi-1.14.0-py38h2e261b9_0\n",
            "  chardet            pkgs/main/linux-64::chardet-3.0.4-py38_1003\n",
            "  conda              pkgs/main/linux-64::conda-4.8.2-py38_0\n",
            "  conda-package-han~ pkgs/main/linux-64::conda-package-handling-1.6.0-py38h7b6447c_0\n",
            "  cryptography       pkgs/main/linux-64::cryptography-2.8-py38h1ba5d50_0\n",
            "  idna               pkgs/main/linux-64::idna-2.8-py38_1000\n",
            "  ld_impl_linux-64   pkgs/main/linux-64::ld_impl_linux-64-2.33.1-h53a641e_7\n",
            "  libedit            pkgs/main/linux-64::libedit-3.1.20181209-hc058e9b_0\n",
            "  libffi             pkgs/main/linux-64::libffi-3.2.1-hd88cf55_4\n",
            "  libgcc-ng          pkgs/main/linux-64::libgcc-ng-9.1.0-hdf63c60_0\n",
            "  libstdcxx-ng       pkgs/main/linux-64::libstdcxx-ng-9.1.0-hdf63c60_0\n",
            "  ncurses            pkgs/main/linux-64::ncurses-6.2-he6710b0_0\n",
            "  openssl            pkgs/main/linux-64::openssl-1.1.1d-h7b6447c_4\n",
            "  pip                pkgs/main/linux-64::pip-20.0.2-py38_1\n",
            "  pycosat            pkgs/main/linux-64::pycosat-0.6.3-py38h7b6447c_0\n",
            "  pycparser          pkgs/main/noarch::pycparser-2.19-py_0\n",
            "  pyopenssl          pkgs/main/linux-64::pyopenssl-19.1.0-py38_0\n",
            "  pysocks            pkgs/main/linux-64::pysocks-1.7.1-py38_0\n",
            "  python             pkgs/main/linux-64::python-3.8.1-h0371630_1\n",
            "  readline           pkgs/main/linux-64::readline-7.0-h7b6447c_5\n",
            "  requests           pkgs/main/linux-64::requests-2.22.0-py38_1\n",
            "  ruamel_yaml        pkgs/main/linux-64::ruamel_yaml-0.15.87-py38h7b6447c_0\n",
            "  setuptools         pkgs/main/linux-64::setuptools-45.2.0-py38_0\n",
            "  six                pkgs/main/linux-64::six-1.14.0-py38_0\n",
            "  sqlite             pkgs/main/linux-64::sqlite-3.31.1-h7b6447c_0\n",
            "  tk                 pkgs/main/linux-64::tk-8.6.8-hbc83047_0\n",
            "  tqdm               pkgs/main/noarch::tqdm-4.42.1-py_0\n",
            "  urllib3            pkgs/main/linux-64::urllib3-1.25.8-py38_0\n",
            "  wheel              pkgs/main/linux-64::wheel-0.34.2-py38_0\n",
            "  xz                 pkgs/main/linux-64::xz-5.2.4-h14c3975_4\n",
            "  yaml               pkgs/main/linux-64::yaml-0.1.7-had09818_2\n",
            "  zlib               pkgs/main/linux-64::zlib-1.2.11-h7b6447c_3\n",
            "\n",
            "\n",
            "Preparing transaction: | \b\b/ \b\b- \b\b\\ \b\bdone\n",
            "Executing transaction: / \b\b- \b\b\\ \b\b| \b\b/ \b\b- \b\b\\ \b\b| \b\b/ \b\b- \b\b\\ \b\b| \b\b/ \b\b- \b\b\\ \b\b| \b\b/ \b\b- \b\bdone\n",
            "installation finished.\n",
            "WARNING:\n",
            "    You currently have a PYTHONPATH environment variable set. This may cause\n",
            "    unexpected behavior when running the Python interpreter in Miniconda3.\n",
            "    For best results, please verify that your PYTHONPATH only points to\n",
            "    directories of packages that are compatible with the Python interpreter\n",
            "    in Miniconda3: /usr/local\n",
            "Collecting package metadata (current_repodata.json): ...working... done\n",
            "Solving environment: ...working... done\n",
            "\n",
            "## Package Plan ##\n",
            "\n",
            "  environment location: /usr/local\n",
            "\n",
            "  added / updated specs:\n",
            "    - jupyter\n",
            "\n",
            "\n",
            "The following packages will be downloaded:\n",
            "\n",
            "    package                    |            build\n",
            "    ---------------------------|-----------------\n",
            "    _openmp_mutex-4.5          |            1_gnu          22 KB\n",
            "    argon2-cffi-21.3.0         |     pyhd3eb1b0_0          15 KB\n",
            "    argon2-cffi-bindings-21.2.0|   py38h7f8727e_0          33 KB\n",
            "    asttokens-2.0.5            |     pyhd3eb1b0_0          20 KB\n",
            "    attrs-21.4.0               |     pyhd3eb1b0_0          51 KB\n",
            "    backcall-0.2.0             |     pyhd3eb1b0_0          13 KB\n",
            "    bleach-4.1.0               |     pyhd3eb1b0_0         123 KB\n",
            "    ca-certificates-2022.3.29  |       h06a4308_0         117 KB\n",
            "    certifi-2021.10.8          |   py38h06a4308_2         152 KB\n",
            "    conda-4.12.0               |   py38h06a4308_0        14.5 MB\n",
            "    dbus-1.13.18               |       hb2f20db_0         504 KB\n",
            "    debugpy-1.5.1              |   py38h295c915_0         1.7 MB\n",
            "    decorator-5.1.1            |     pyhd3eb1b0_0          12 KB\n",
            "    defusedxml-0.7.1           |     pyhd3eb1b0_0          23 KB\n",
            "    entrypoints-0.3            |           py38_0          10 KB\n",
            "    executing-0.8.3            |     pyhd3eb1b0_0          18 KB\n",
            "    expat-2.4.4                |       h295c915_0         169 KB\n",
            "    fontconfig-2.13.1          |       h6c09931_0         250 KB\n",
            "    freetype-2.11.0            |       h70c0345_0         618 KB\n",
            "    glib-2.69.1                |       h4ff587b_1         1.7 MB\n",
            "    gst-plugins-base-1.14.0    |       h8213a91_2         4.9 MB\n",
            "    gstreamer-1.14.0           |       h28cd5cc_2         3.2 MB\n",
            "    icu-58.2                   |       he6710b0_3        10.5 MB\n",
            "    importlib-metadata-4.11.3  |   py38h06a4308_0          40 KB\n",
            "    importlib_metadata-4.11.3  |       hd3eb1b0_0          12 KB\n",
            "    ipykernel-6.9.1            |   py38h06a4308_0         199 KB\n",
            "    ipython-8.2.0              |   py38h06a4308_0         993 KB\n",
            "    ipython_genutils-0.2.0     |     pyhd3eb1b0_1          27 KB\n",
            "    ipywidgets-7.6.5           |     pyhd3eb1b0_1         105 KB\n",
            "    jedi-0.18.1                |   py38h06a4308_1         982 KB\n",
            "    jinja2-3.0.3               |     pyhd3eb1b0_0         106 KB\n",
            "    jpeg-9d                    |       h7f8727e_0         232 KB\n",
            "    jsonschema-3.2.0           |     pyhd3eb1b0_2          47 KB\n",
            "    jupyter-1.0.0              |           py38_7           7 KB\n",
            "    jupyter_client-7.1.2       |     pyhd3eb1b0_0          93 KB\n",
            "    jupyter_console-6.4.3      |     pyhd3eb1b0_0          23 KB\n",
            "    jupyter_core-4.9.2         |   py38h06a4308_0          79 KB\n",
            "    jupyterlab_pygments-0.1.2  |             py_0           8 KB\n",
            "    jupyterlab_widgets-1.0.0   |     pyhd3eb1b0_1         109 KB\n",
            "    libffi-3.3                 |       he6710b0_2          50 KB\n",
            "    libgcc-ng-9.3.0            |      h5101ec6_17         4.8 MB\n",
            "    libgomp-9.3.0              |      h5101ec6_17         311 KB\n",
            "    libpng-1.6.37              |       hbc83047_0         278 KB\n",
            "    libsodium-1.0.18           |       h7b6447c_0         244 KB\n",
            "    libuuid-1.0.3              |       h7f8727e_2          17 KB\n",
            "    libxcb-1.14                |       h7b6447c_0         505 KB\n",
            "    libxml2-2.9.12             |       h03d6c58_0         1.2 MB\n",
            "    markupsafe-2.0.1           |   py38h27cfd23_0          22 KB\n",
            "    matplotlib-inline-0.1.2    |     pyhd3eb1b0_2          12 KB\n",
            "    mistune-0.8.4              |py38h7b6447c_1000          55 KB\n",
            "    nbclient-0.5.11            |     pyhd3eb1b0_0          62 KB\n",
            "    nbconvert-6.3.0            |   py38h06a4308_0         490 KB\n",
            "    nbformat-5.1.3             |     pyhd3eb1b0_0          44 KB\n",
            "    nest-asyncio-1.5.1         |     pyhd3eb1b0_0          10 KB\n",
            "    notebook-6.4.8             |   py38h06a4308_0         4.2 MB\n",
            "    openssl-1.1.1n             |       h7f8727e_0         2.5 MB\n",
            "    packaging-21.3             |     pyhd3eb1b0_0          36 KB\n",
            "    pandocfilters-1.5.0        |     pyhd3eb1b0_0          11 KB\n",
            "    parso-0.8.3                |     pyhd3eb1b0_0          70 KB\n",
            "    pcre-8.45                  |       h295c915_0         207 KB\n",
            "    pexpect-4.8.0              |     pyhd3eb1b0_3          53 KB\n",
            "    pickleshare-0.7.5          |  pyhd3eb1b0_1003          13 KB\n",
            "    prometheus_client-0.13.1   |     pyhd3eb1b0_0          47 KB\n",
            "    prompt-toolkit-3.0.20      |     pyhd3eb1b0_0         259 KB\n",
            "    prompt_toolkit-3.0.20      |       hd3eb1b0_0          12 KB\n",
            "    ptyprocess-0.7.0           |     pyhd3eb1b0_2          17 KB\n",
            "    pure_eval-0.2.2            |     pyhd3eb1b0_0          14 KB\n",
            "    pygments-2.11.2            |     pyhd3eb1b0_0         759 KB\n",
            "    pyparsing-3.0.4            |     pyhd3eb1b0_0          81 KB\n",
            "    pyqt-5.9.2                 |   py38h05f1152_4         4.5 MB\n",
            "    pyrsistent-0.18.0          |   py38heee7806_0          94 KB\n",
            "    python-dateutil-2.8.2      |     pyhd3eb1b0_0         233 KB\n",
            "    pyzmq-22.3.0               |   py38h295c915_2         476 KB\n",
            "    qt-5.9.7                   |       h5867ecd_1        68.5 MB\n",
            "    qtconsole-5.3.0            |     pyhd3eb1b0_0          93 KB\n",
            "    qtpy-2.0.1                 |     pyhd3eb1b0_0          40 KB\n",
            "    send2trash-1.8.0           |     pyhd3eb1b0_1          19 KB\n",
            "    sip-4.19.13                |   py38h295c915_0         279 KB\n",
            "    stack_data-0.2.0           |     pyhd3eb1b0_0          22 KB\n",
            "    terminado-0.13.1           |   py38h06a4308_0          30 KB\n",
            "    testpath-0.5.0             |     pyhd3eb1b0_0          81 KB\n",
            "    tornado-6.1                |   py38h27cfd23_0         588 KB\n",
            "    traitlets-5.1.1            |     pyhd3eb1b0_0          84 KB\n",
            "    typing-extensions-4.1.1    |       hd3eb1b0_0           8 KB\n",
            "    typing_extensions-4.1.1    |     pyh06a4308_0          28 KB\n",
            "    wcwidth-0.2.5              |     pyhd3eb1b0_0          26 KB\n",
            "    webencodings-0.5.1         |           py38_1          20 KB\n",
            "    widgetsnbextension-3.5.2   |   py38h06a4308_0         651 KB\n",
            "    xz-5.2.5                   |       h7b6447c_0         341 KB\n",
            "    zeromq-4.3.4               |       h2531618_0         331 KB\n",
            "    zipp-3.7.0                 |     pyhd3eb1b0_0          12 KB\n",
            "    ------------------------------------------------------------\n",
            "                                           Total:       134.3 MB\n",
            "\n",
            "The following NEW packages will be INSTALLED:\n",
            "\n",
            "  _openmp_mutex      pkgs/main/linux-64::_openmp_mutex-4.5-1_gnu\n",
            "  argon2-cffi        pkgs/main/noarch::argon2-cffi-21.3.0-pyhd3eb1b0_0\n",
            "  argon2-cffi-bindi~ pkgs/main/linux-64::argon2-cffi-bindings-21.2.0-py38h7f8727e_0\n",
            "  asttokens          pkgs/main/noarch::asttokens-2.0.5-pyhd3eb1b0_0\n",
            "  attrs              pkgs/main/noarch::attrs-21.4.0-pyhd3eb1b0_0\n",
            "  backcall           pkgs/main/noarch::backcall-0.2.0-pyhd3eb1b0_0\n",
            "  bleach             pkgs/main/noarch::bleach-4.1.0-pyhd3eb1b0_0\n",
            "  dbus               pkgs/main/linux-64::dbus-1.13.18-hb2f20db_0\n",
            "  debugpy            pkgs/main/linux-64::debugpy-1.5.1-py38h295c915_0\n",
            "  decorator          pkgs/main/noarch::decorator-5.1.1-pyhd3eb1b0_0\n",
            "  defusedxml         pkgs/main/noarch::defusedxml-0.7.1-pyhd3eb1b0_0\n",
            "  entrypoints        pkgs/main/linux-64::entrypoints-0.3-py38_0\n",
            "  executing          pkgs/main/noarch::executing-0.8.3-pyhd3eb1b0_0\n",
            "  expat              pkgs/main/linux-64::expat-2.4.4-h295c915_0\n",
            "  fontconfig         pkgs/main/linux-64::fontconfig-2.13.1-h6c09931_0\n",
            "  freetype           pkgs/main/linux-64::freetype-2.11.0-h70c0345_0\n",
            "  glib               pkgs/main/linux-64::glib-2.69.1-h4ff587b_1\n",
            "  gst-plugins-base   pkgs/main/linux-64::gst-plugins-base-1.14.0-h8213a91_2\n",
            "  gstreamer          pkgs/main/linux-64::gstreamer-1.14.0-h28cd5cc_2\n",
            "  icu                pkgs/main/linux-64::icu-58.2-he6710b0_3\n",
            "  importlib-metadata pkgs/main/linux-64::importlib-metadata-4.11.3-py38h06a4308_0\n",
            "  importlib_metadata pkgs/main/noarch::importlib_metadata-4.11.3-hd3eb1b0_0\n",
            "  ipykernel          pkgs/main/linux-64::ipykernel-6.9.1-py38h06a4308_0\n",
            "  ipython            pkgs/main/linux-64::ipython-8.2.0-py38h06a4308_0\n",
            "  ipython_genutils   pkgs/main/noarch::ipython_genutils-0.2.0-pyhd3eb1b0_1\n",
            "  ipywidgets         pkgs/main/noarch::ipywidgets-7.6.5-pyhd3eb1b0_1\n",
            "  jedi               pkgs/main/linux-64::jedi-0.18.1-py38h06a4308_1\n",
            "  jinja2             pkgs/main/noarch::jinja2-3.0.3-pyhd3eb1b0_0\n",
            "  jpeg               pkgs/main/linux-64::jpeg-9d-h7f8727e_0\n",
            "  jsonschema         pkgs/main/noarch::jsonschema-3.2.0-pyhd3eb1b0_2\n",
            "  jupyter            pkgs/main/linux-64::jupyter-1.0.0-py38_7\n",
            "  jupyter_client     pkgs/main/noarch::jupyter_client-7.1.2-pyhd3eb1b0_0\n",
            "  jupyter_console    pkgs/main/noarch::jupyter_console-6.4.3-pyhd3eb1b0_0\n",
            "  jupyter_core       pkgs/main/linux-64::jupyter_core-4.9.2-py38h06a4308_0\n",
            "  jupyterlab_pygmen~ pkgs/main/noarch::jupyterlab_pygments-0.1.2-py_0\n",
            "  jupyterlab_widgets pkgs/main/noarch::jupyterlab_widgets-1.0.0-pyhd3eb1b0_1\n",
            "  libgomp            pkgs/main/linux-64::libgomp-9.3.0-h5101ec6_17\n",
            "  libpng             pkgs/main/linux-64::libpng-1.6.37-hbc83047_0\n",
            "  libsodium          pkgs/main/linux-64::libsodium-1.0.18-h7b6447c_0\n",
            "  libuuid            pkgs/main/linux-64::libuuid-1.0.3-h7f8727e_2\n",
            "  libxcb             pkgs/main/linux-64::libxcb-1.14-h7b6447c_0\n",
            "  libxml2            pkgs/main/linux-64::libxml2-2.9.12-h03d6c58_0\n",
            "  markupsafe         pkgs/main/linux-64::markupsafe-2.0.1-py38h27cfd23_0\n",
            "  matplotlib-inline  pkgs/main/noarch::matplotlib-inline-0.1.2-pyhd3eb1b0_2\n",
            "  mistune            pkgs/main/linux-64::mistune-0.8.4-py38h7b6447c_1000\n",
            "  nbclient           pkgs/main/noarch::nbclient-0.5.11-pyhd3eb1b0_0\n",
            "  nbconvert          pkgs/main/linux-64::nbconvert-6.3.0-py38h06a4308_0\n",
            "  nbformat           pkgs/main/noarch::nbformat-5.1.3-pyhd3eb1b0_0\n",
            "  nest-asyncio       pkgs/main/noarch::nest-asyncio-1.5.1-pyhd3eb1b0_0\n",
            "  notebook           pkgs/main/linux-64::notebook-6.4.8-py38h06a4308_0\n",
            "  packaging          pkgs/main/noarch::packaging-21.3-pyhd3eb1b0_0\n",
            "  pandocfilters      pkgs/main/noarch::pandocfilters-1.5.0-pyhd3eb1b0_0\n",
            "  parso              pkgs/main/noarch::parso-0.8.3-pyhd3eb1b0_0\n",
            "  pcre               pkgs/main/linux-64::pcre-8.45-h295c915_0\n",
            "  pexpect            pkgs/main/noarch::pexpect-4.8.0-pyhd3eb1b0_3\n",
            "  pickleshare        pkgs/main/noarch::pickleshare-0.7.5-pyhd3eb1b0_1003\n",
            "  prometheus_client  pkgs/main/noarch::prometheus_client-0.13.1-pyhd3eb1b0_0\n",
            "  prompt-toolkit     pkgs/main/noarch::prompt-toolkit-3.0.20-pyhd3eb1b0_0\n",
            "  prompt_toolkit     pkgs/main/noarch::prompt_toolkit-3.0.20-hd3eb1b0_0\n",
            "  ptyprocess         pkgs/main/noarch::ptyprocess-0.7.0-pyhd3eb1b0_2\n",
            "  pure_eval          pkgs/main/noarch::pure_eval-0.2.2-pyhd3eb1b0_0\n",
            "  pygments           pkgs/main/noarch::pygments-2.11.2-pyhd3eb1b0_0\n",
            "  pyparsing          pkgs/main/noarch::pyparsing-3.0.4-pyhd3eb1b0_0\n",
            "  pyqt               pkgs/main/linux-64::pyqt-5.9.2-py38h05f1152_4\n",
            "  pyrsistent         pkgs/main/linux-64::pyrsistent-0.18.0-py38heee7806_0\n",
            "  python-dateutil    pkgs/main/noarch::python-dateutil-2.8.2-pyhd3eb1b0_0\n",
            "  pyzmq              pkgs/main/linux-64::pyzmq-22.3.0-py38h295c915_2\n",
            "  qt                 pkgs/main/linux-64::qt-5.9.7-h5867ecd_1\n",
            "  qtconsole          pkgs/main/noarch::qtconsole-5.3.0-pyhd3eb1b0_0\n",
            "  qtpy               pkgs/main/noarch::qtpy-2.0.1-pyhd3eb1b0_0\n",
            "  send2trash         pkgs/main/noarch::send2trash-1.8.0-pyhd3eb1b0_1\n",
            "  sip                pkgs/main/linux-64::sip-4.19.13-py38h295c915_0\n",
            "  stack_data         pkgs/main/noarch::stack_data-0.2.0-pyhd3eb1b0_0\n",
            "  terminado          pkgs/main/linux-64::terminado-0.13.1-py38h06a4308_0\n",
            "  testpath           pkgs/main/noarch::testpath-0.5.0-pyhd3eb1b0_0\n",
            "  tornado            pkgs/main/linux-64::tornado-6.1-py38h27cfd23_0\n",
            "  traitlets          pkgs/main/noarch::traitlets-5.1.1-pyhd3eb1b0_0\n",
            "  typing-extensions  pkgs/main/noarch::typing-extensions-4.1.1-hd3eb1b0_0\n",
            "  typing_extensions  pkgs/main/noarch::typing_extensions-4.1.1-pyh06a4308_0\n",
            "  wcwidth            pkgs/main/noarch::wcwidth-0.2.5-pyhd3eb1b0_0\n",
            "  webencodings       pkgs/main/linux-64::webencodings-0.5.1-py38_1\n",
            "  widgetsnbextension pkgs/main/linux-64::widgetsnbextension-3.5.2-py38h06a4308_0\n",
            "  zeromq             pkgs/main/linux-64::zeromq-4.3.4-h2531618_0\n",
            "  zipp               pkgs/main/noarch::zipp-3.7.0-pyhd3eb1b0_0\n",
            "\n",
            "The following packages will be UPDATED:\n",
            "\n",
            "  ca-certificates                                2020.1.1-0 --> 2022.3.29-h06a4308_0\n",
            "  certifi                                 2019.11.28-py38_0 --> 2021.10.8-py38h06a4308_2\n",
            "  conda                                        4.8.2-py38_0 --> 4.12.0-py38h06a4308_0\n",
            "  libffi                                   3.2.1-hd88cf55_4 --> 3.3-he6710b0_2\n",
            "  libgcc-ng                                9.1.0-hdf63c60_0 --> 9.3.0-h5101ec6_17\n",
            "  openssl                                 1.1.1d-h7b6447c_4 --> 1.1.1n-h7f8727e_0\n",
            "  xz                                       5.2.4-h14c3975_4 --> 5.2.5-h7b6447c_0\n",
            "\n",
            "\n",
            "Preparing transaction: ...working... done\n",
            "Verifying transaction: ...working... done\n",
            "Executing transaction: ...working... done\n",
            "Collecting package metadata (current_repodata.json): ...working... done\n",
            "Solving environment: ...working... done\n",
            "\n",
            "## Package Plan ##\n",
            "\n",
            "  environment location: /usr/local\n",
            "\n",
            "  added / updated specs:\n",
            "    - google-colab\n",
            "\n",
            "\n",
            "The following packages will be downloaded:\n",
            "\n",
            "    package                    |            build\n",
            "    ---------------------------|-----------------\n",
            "    aiohttp-3.7.4.post0        |   py38h7f8727e_2         553 KB\n",
            "    async-timeout-3.0.1        |          py_1000          11 KB  conda-forge\n",
            "    ca-certificates-2021.10.8  |       ha878542_0         139 KB  conda-forge\n",
            "    cachetools-5.0.0           |     pyhd8ed1ab_0          12 KB  conda-forge\n",
            "    certifi-2021.10.8          |   py38h578d9bd_2         145 KB  conda-forge\n",
            "    conda-4.12.0               |   py38h578d9bd_0         1.0 MB  conda-forge\n",
            "    cryptography-35.0.0        |   py38ha5dfef3_0         1.5 MB  conda-forge\n",
            "    google-auth-2.6.3          |     pyh6c4a22f_0          84 KB  conda-forge\n",
            "    google-colab-1.0.0         |     pyh44b312d_0          77 KB  conda-forge\n",
            "    libblas-3.9.0              |11_linux64_openblas          12 KB  conda-forge\n",
            "    libcblas-3.9.0             |11_linux64_openblas          11 KB  conda-forge\n",
            "    libgfortran-ng-11.2.0      |      h69a702a_15          23 KB  conda-forge\n",
            "    libgfortran5-11.2.0        |      h5c6108e_15         1.7 MB  conda-forge\n",
            "    liblapack-3.9.0            |11_linux64_openblas          11 KB  conda-forge\n",
            "    libopenblas-0.3.17         |pthreads_h8fe5266_1         9.2 MB  conda-forge\n",
            "    multidict-5.2.0            |   py38h7f8727e_2          64 KB\n",
            "    numpy-1.20.3               |   py38h9894fe3_1         5.8 MB  conda-forge\n",
            "    pandas-1.0.5               |   py38hcb8c335_0        10.5 MB  conda-forge\n",
            "    portpicker-1.3.1           |   py38h06a4308_0         260 KB\n",
            "    pyasn1-0.4.8               |             py_0          53 KB  conda-forge\n",
            "    pyasn1-modules-0.2.7       |             py_0          60 KB  conda-forge\n",
            "    pyopenssl-22.0.0           |     pyhd8ed1ab_0          49 KB  conda-forge\n",
            "    python_abi-3.8             |           2_cp38           4 KB  conda-forge\n",
            "    pytz-2022.1                |     pyhd8ed1ab_0         242 KB  conda-forge\n",
            "    pyu2f-0.1.5                |     pyhd8ed1ab_0          31 KB  conda-forge\n",
            "    rsa-4.8                    |     pyhd8ed1ab_0          31 KB  conda-forge\n",
            "    yarl-1.6.3                 |   py38h27cfd23_0         136 KB\n",
            "    ------------------------------------------------------------\n",
            "                                           Total:        31.7 MB\n",
            "\n",
            "The following NEW packages will be INSTALLED:\n",
            "\n",
            "  aiohttp            pkgs/main/linux-64::aiohttp-3.7.4.post0-py38h7f8727e_2\n",
            "  async-timeout      conda-forge/noarch::async-timeout-3.0.1-py_1000\n",
            "  cachetools         conda-forge/noarch::cachetools-5.0.0-pyhd8ed1ab_0\n",
            "  google-auth        conda-forge/noarch::google-auth-2.6.3-pyh6c4a22f_0\n",
            "  google-colab       conda-forge/noarch::google-colab-1.0.0-pyh44b312d_0\n",
            "  libblas            conda-forge/linux-64::libblas-3.9.0-11_linux64_openblas\n",
            "  libcblas           conda-forge/linux-64::libcblas-3.9.0-11_linux64_openblas\n",
            "  libgfortran-ng     conda-forge/linux-64::libgfortran-ng-11.2.0-h69a702a_15\n",
            "  libgfortran5       conda-forge/linux-64::libgfortran5-11.2.0-h5c6108e_15\n",
            "  liblapack          conda-forge/linux-64::liblapack-3.9.0-11_linux64_openblas\n",
            "  libopenblas        conda-forge/linux-64::libopenblas-0.3.17-pthreads_h8fe5266_1\n",
            "  multidict          pkgs/main/linux-64::multidict-5.2.0-py38h7f8727e_2\n",
            "  numpy              conda-forge/linux-64::numpy-1.20.3-py38h9894fe3_1\n",
            "  pandas             conda-forge/linux-64::pandas-1.0.5-py38hcb8c335_0\n",
            "  portpicker         pkgs/main/linux-64::portpicker-1.3.1-py38h06a4308_0\n",
            "  pyasn1             conda-forge/noarch::pyasn1-0.4.8-py_0\n",
            "  pyasn1-modules     conda-forge/noarch::pyasn1-modules-0.2.7-py_0\n",
            "  python_abi         conda-forge/linux-64::python_abi-3.8-2_cp38\n",
            "  pytz               conda-forge/noarch::pytz-2022.1-pyhd8ed1ab_0\n",
            "  pyu2f              conda-forge/noarch::pyu2f-0.1.5-pyhd8ed1ab_0\n",
            "  rsa                conda-forge/noarch::rsa-4.8-pyhd8ed1ab_0\n",
            "  yarl               pkgs/main/linux-64::yarl-1.6.3-py38h27cfd23_0\n",
            "\n",
            "The following packages will be UPDATED:\n",
            "\n",
            "  cryptography       pkgs/main::cryptography-2.8-py38h1ba5~ --> conda-forge::cryptography-35.0.0-py38ha5dfef3_0\n",
            "  pyopenssl          pkgs/main/linux-64::pyopenssl-19.1.0-~ --> conda-forge/noarch::pyopenssl-22.0.0-pyhd8ed1ab_0\n",
            "\n",
            "The following packages will be SUPERSEDED by a higher-priority channel:\n",
            "\n",
            "  ca-certificates    pkgs/main::ca-certificates-2022.3.29-~ --> conda-forge::ca-certificates-2021.10.8-ha878542_0\n",
            "  certifi            pkgs/main::certifi-2021.10.8-py38h06a~ --> conda-forge::certifi-2021.10.8-py38h578d9bd_2\n",
            "  conda              pkgs/main::conda-4.12.0-py38h06a4308_0 --> conda-forge::conda-4.12.0-py38h578d9bd_0\n",
            "\n",
            "\n",
            "Preparing transaction: ...working... done\n",
            "Verifying transaction: ...working... done\n",
            "Executing transaction: ...working... done\n",
            "Installed kernelspec py38 in /root/.local/share/jupyter/kernels/py38\n"
          ]
        }
      ],
      "source": [
        "!wget -O mini.sh https://repo.anaconda.com/miniconda/Miniconda3-py38_4.8.2-Linux-x86_64.sh\n",
        "!chmod +x mini.sh\n",
        "!bash ./mini.sh -b -f -p /usr/local\n",
        "!conda install -q -y jupyter\n",
        "!conda install -q -y google-colab -c conda-forge\n",
        "!python -m ipykernel install --name \"py38\" --user"
      ]
    },
    {
      "cell_type": "markdown",
      "metadata": {
        "id": "o35Nc_r-e01I"
      },
      "source": [
        "### Reload the web page and execute this cell !\n",
        "---\n",
        "\n"
      ]
    },
    {
      "cell_type": "code",
      "execution_count": null,
      "metadata": {
        "id": "SFeLgRxtd5_f"
      },
      "outputs": [],
      "source": [
        "# Reload the web page and execute this cell\n",
        "# Reloading is necessary for the runtime change\n",
        "# Should print Python 3.8\n",
        "import sys\n",
        "print(\"User Current Version:-\", sys.version)"
      ]
    },
    {
      "cell_type": "markdown",
      "metadata": {},
      "source": [
        "thanks to https://gist.github.com/ngrislain/c3ba6f687c64ce31adc6b0dff1b26d6a#file-py38-success-ipynb"
      ]
    },
    {
      "cell_type": "markdown",
      "metadata": {
        "id": "JiiqULyBeeGJ"
      },
      "source": [
        "Installing libraries for the new python version"
      ]
    },
    {
      "cell_type": "code",
      "execution_count": 1,
      "metadata": {
        "colab": {
          "base_uri": "https://localhost:8080/"
        },
        "id": "3ERxxnitei8j",
        "outputId": "3e223bf3-ceef-4d61-98d2-0ddcc2a7714f"
      },
      "outputs": [
        {
          "name": "stdout",
          "output_type": "stream",
          "text": [
            "Requirement already satisfied: numpy in /usr/local/lib/python3.8/site-packages (1.20.3)\n",
            "Collecting opencv-python\n",
            "  Downloading opencv_python-4.5.5.64-cp36-abi3-manylinux_2_17_x86_64.manylinux2014_x86_64.whl (60.5 MB)\n",
            "\u001b[K     |████████████████████████████████| 60.5 MB 1.2 MB/s \n",
            "\u001b[?25hRequirement already satisfied: numpy>=1.14.5; python_version >= \"3.7\" in /usr/local/lib/python3.8/site-packages (from opencv-python) (1.20.3)\n",
            "Installing collected packages: opencv-python\n",
            "Successfully installed opencv-python-4.5.5.64\n",
            "Collecting scipy\n",
            "  Downloading scipy-1.8.0-cp38-cp38-manylinux_2_17_x86_64.manylinux2014_x86_64.whl (41.6 MB)\n",
            "\u001b[K     |████████████████████████████████| 41.6 MB 1.2 MB/s \n",
            "\u001b[?25hRequirement already satisfied: numpy<1.25.0,>=1.17.3 in /usr/local/lib/python3.8/site-packages (from scipy) (1.20.3)\n",
            "Installing collected packages: scipy\n",
            "Successfully installed scipy-1.8.0\n",
            "Collecting scikit-fmm\n",
            "  Downloading scikit-fmm-2022.3.26.tar.gz (432 kB)\n",
            "\u001b[K     |████████████████████████████████| 432 kB 8.7 MB/s \n",
            "\u001b[?25h  Installing build dependencies ... \u001b[?25l\u001b[?25hdone\n",
            "  Getting requirements to build wheel ... \u001b[?25l\u001b[?25hdone\n",
            "    Preparing wheel metadata ... \u001b[?25l\u001b[?25hdone\n",
            "Requirement already satisfied: numpy>=1.0.2 in /usr/local/lib/python3.8/site-packages (from scikit-fmm) (1.20.3)\n",
            "Building wheels for collected packages: scikit-fmm\n",
            "  Building wheel for scikit-fmm (PEP 517) ... \u001b[?25l\u001b[?25hdone\n",
            "  Created wheel for scikit-fmm: filename=scikit_fmm-2022.3.26-cp38-cp38-linux_x86_64.whl size=237655 sha256=bdca083305b46ca1d708d5bff56c9e6d1d8a7db0cda46c6af3126ff52d890563\n",
            "  Stored in directory: /root/.cache/pip/wheels/23/15/cf/ebbb283bbfae514442037733e0fd4b5c71482c6432f3e2f82e\n",
            "Successfully built scikit-fmm\n",
            "Installing collected packages: scikit-fmm\n",
            "Successfully installed scikit-fmm-2022.3.26\n",
            "Collecting Pillow\n",
            "  Downloading Pillow-9.1.0-cp38-cp38-manylinux_2_17_x86_64.manylinux2014_x86_64.whl (4.3 MB)\n",
            "\u001b[K     |████████████████████████████████| 4.3 MB 8.0 MB/s \n",
            "\u001b[?25hInstalling collected packages: Pillow\n",
            "Successfully installed Pillow-9.1.0\n",
            "Collecting matplotlib\n",
            "  Downloading matplotlib-3.5.1-cp38-cp38-manylinux_2_5_x86_64.manylinux1_x86_64.whl (11.3 MB)\n",
            "\u001b[K     |████████████████████████████████| 11.3 MB 7.3 MB/s \n",
            "\u001b[?25hRequirement already satisfied: numpy>=1.17 in /usr/local/lib/python3.8/site-packages (from matplotlib) (1.20.3)\n",
            "Collecting fonttools>=4.22.0\n",
            "  Downloading fonttools-4.32.0-py3-none-any.whl (900 kB)\n",
            "\u001b[K     |████████████████████████████████| 900 kB 68.7 MB/s \n",
            "\u001b[?25hCollecting cycler>=0.10\n",
            "  Downloading cycler-0.11.0-py3-none-any.whl (6.4 kB)\n",
            "Requirement already satisfied: python-dateutil>=2.7 in /usr/local/lib/python3.8/site-packages (from matplotlib) (2.8.2)\n",
            "Requirement already satisfied: pillow>=6.2.0 in /usr/local/lib/python3.8/site-packages (from matplotlib) (9.1.0)\n",
            "Collecting kiwisolver>=1.0.1\n",
            "  Downloading kiwisolver-1.4.2-cp38-cp38-manylinux_2_5_x86_64.manylinux1_x86_64.whl (1.2 MB)\n",
            "\u001b[K     |████████████████████████████████| 1.2 MB 61.8 MB/s \n",
            "\u001b[?25hRequirement already satisfied: pyparsing>=2.2.1 in /usr/local/lib/python3.8/site-packages (from matplotlib) (3.0.4)\n",
            "Requirement already satisfied: packaging>=20.0 in /usr/local/lib/python3.8/site-packages (from matplotlib) (21.3)\n",
            "Requirement already satisfied: six>=1.5 in /usr/local/lib/python3.8/site-packages (from python-dateutil>=2.7->matplotlib) (1.14.0)\n",
            "Installing collected packages: fonttools, cycler, kiwisolver, matplotlib\n",
            "Successfully installed cycler-0.11.0 fonttools-4.32.0 kiwisolver-1.4.2 matplotlib-3.5.1\n"
          ]
        }
      ],
      "source": [
        "!pip install numpy\n",
        "!pip install opencv-python\n",
        "!pip install scipy\n",
        "!pip install scikit-fmm\n",
        "!pip install Pillow\n",
        "!pip install matplotlib"
      ]
    },
    {
      "cell_type": "markdown",
      "metadata": {
        "id": "3jf8RQLEeRJU"
      },
      "source": [
        "## Code"
      ]
    },
    {
      "cell_type": "markdown",
      "metadata": {
        "id": "LXbFRKd7ds2N"
      },
      "source": [
        "Import of the basic libraries that are used"
      ]
    },
    {
      "cell_type": "code",
      "execution_count": 3,
      "metadata": {
        "id": "N6pcjEiWds2P"
      },
      "outputs": [],
      "source": [
        "import numpy as np\n",
        "import matplotlib.pyplot as plt\n",
        "import cv2 as cv\n",
        "from PIL import Image\n",
        "from scipy import ndimage\n",
        "import skfmm"
      ]
    },
    {
      "cell_type": "markdown",
      "metadata": {
        "id": "KP7lE8Wtds2S"
      },
      "source": [
        "Parameters to set"
      ]
    },
    {
      "cell_type": "code",
      "execution_count": 4,
      "metadata": {
        "id": "RHtmMZ1Cds2T"
      },
      "outputs": [],
      "source": [
        "\n",
        "# path of the image to analyse\n",
        "path_source = 'water_coins.jpg'\n",
        "# path where to save the 3D frames\n",
        "path = 'image 3D{}.png'\n",
        "# path where to save the 2D frames of contour\n",
        "path_contour = 'image contour{}.png'\n",
        "# path where to save the gif\n",
        "path_gif = 'out.gif'\n",
        "# vertical starting point for the 3d plot\n",
        "v_start = 0\n",
        "# vertical max value for the 3d plot\n",
        "v_max = 100\n",
        "# number of iterations to run the level set propagation\n",
        "n_iter = 200\n",
        "# number of frames to be generated\n",
        "frames = 100\n",
        "#step how many frames to skip for the animation\n",
        "step = 1\n",
        "# delta t of time of the level set propagation\n",
        "dt = 0.05\n",
        "# velocity that multiplies F(x,y)\n",
        "v = 20.0\n",
        "# how many iterations to wait before performing redistancing\n",
        "redistancing_iter = 10\n",
        "# allow redistancing or not\n",
        "allow_redistancing = True\n",
        "# vertical or horizontal concatenation. True vertical, False horizontal\n",
        "vertical_concat = False"
      ]
    },
    {
      "cell_type": "markdown",
      "metadata": {
        "id": "r0YKuVGHds2W"
      },
      "source": [
        "Basic mathematical functions"
      ]
    },
    {
      "cell_type": "code",
      "execution_count": 5,
      "metadata": {
        "id": "ire4f2Cfds2Y"
      },
      "outputs": [],
      "source": [
        "# gradient of the image. \n",
        "# Calculated using the central difference method using a high degree of approxximation\n",
        "# reminder, the gradient of a image is performed in two dimension\n",
        "def grad(x):\n",
        "    grad = np.array(np.gradient(x,edge_order=2))\n",
        "    return grad\n",
        "# norm of the gradient\n",
        "def norm(x, axis=0):\n",
        "    return np.sqrt(np.sum(np.square(x), axis=axis))"
      ]
    },
    {
      "cell_type": "markdown",
      "metadata": {
        "id": "yqLr-dsNds2b"
      },
      "source": [
        "Function to perform redistancing according to Fast Marching Methods\n",
        "$\\phi = sign(\\phi)(1-||\\nabla\\phi||)$"
      ]
    },
    {
      "cell_type": "code",
      "execution_count": 6,
      "metadata": {
        "id": "gGJzXTeGds2f"
      },
      "outputs": [],
      "source": [
        "# function to perform redistancing\n",
        "# uses the skfmm library to perform the redistancing using fast marching method\n",
        "def redistancing(phi):\n",
        "    sd = skfmm.distance(phi, dx = 1)\n",
        "    return sd"
      ]
    },
    {
      "cell_type": "markdown",
      "metadata": {
        "id": "Edu_kkBads2h"
      },
      "source": [
        "Compute the c level set or intersection of a curve phi."
      ]
    },
    {
      "cell_type": "code",
      "execution_count": 7,
      "metadata": {
        "id": "1Ct_GGsxds2j"
      },
      "outputs": [],
      "source": [
        "\n",
        "# compute the intersection of the level set and the curve phi\n",
        "# eps is to prevent numerical errors\n",
        "def intersect(phi,c,eps):\n",
        "    if phi <= c+eps and phi >=c-eps:\n",
        "        return 1\n",
        "    else:\n",
        "        return 0  "
      ]
    },
    {
      "cell_type": "markdown",
      "metadata": {
        "id": "squ_J25Lds2n"
      },
      "source": [
        "Use compute F according to $F = \\frac{1}{1+||\\nabla I||}$"
      ]
    },
    {
      "cell_type": "code",
      "execution_count": 8,
      "metadata": {
        "id": "UQTStat3ds2o"
      },
      "outputs": [],
      "source": [
        "# stopping function for the level set. \n",
        "def stopping_fun(x):\n",
        "    return 1. / (1. + norm(grad(x))**2)"
      ]
    },
    {
      "cell_type": "markdown",
      "metadata": {
        "id": "W5LsHw7lds2p"
      },
      "source": [
        "Functions to concatenate images"
      ]
    },
    {
      "cell_type": "code",
      "execution_count": 9,
      "metadata": {
        "id": "IMW4YZYcds2q"
      },
      "outputs": [],
      "source": [
        "# concatenate the frames either horizontally or vertically\n",
        "def get_concat_h(im1, im2):\n",
        "    dst = Image.new('RGB', (im1.width + im2.width, im1.height))\n",
        "    dst.paste(im1, (0, 0))\n",
        "    dst.paste(im2, (im1.width, 0))\n",
        "    return dst\n",
        "\n",
        "def get_concat_v(im1, im2):\n",
        "    dst = Image.new('RGB', (im1.width, im1.height + im2.height))\n",
        "    dst.paste(im1, (0, 0))\n",
        "    dst.paste(im2, (0, im1.height))\n",
        "    return dst"
      ]
    },
    {
      "cell_type": "markdown",
      "metadata": {
        "id": "cP8nrKcXds2r"
      },
      "source": [
        "Get the image and do some basic pre processing"
      ]
    },
    {
      "cell_type": "code",
      "execution_count": 10,
      "metadata": {
        "id": "7G7EmuoDds2r"
      },
      "outputs": [],
      "source": [
        "# get the image in grayscale\n",
        "img = cv.imread(path_source)\n",
        "img = cv.cvtColor(img, cv.COLOR_RGB2GRAY)\n",
        "# apply gaussian filter to img\n",
        "img_gauss = ndimage.gaussian_filter(img, sigma=1)\n",
        "# center on the mean\n",
        "img_mean = img_gauss - np.mean(img_gauss)"
      ]
    },
    {
      "cell_type": "markdown",
      "metadata": {
        "id": "LKnX2jJ7ds2s"
      },
      "source": [
        "Set the x and y axis to the size of the image.\n",
        "x and y are a a np.mesh, which is similar to a cartesian grid"
      ]
    },
    {
      "cell_type": "code",
      "execution_count": 11,
      "metadata": {
        "id": "lcquQM25ds2t"
      },
      "outputs": [],
      "source": [
        "# limits of the mesh, x start, x end, y start, y end \n",
        "limits = [-int(img.shape[1]/2),int(img.shape[1]/2),-int(img.shape[0]/2),int(img.shape[0]/2)]\n",
        "# extend to plot\n",
        "extent = [-int(img.shape[1]/2),int(img.shape[1]/2),-int(img.shape[0]/2),int(img.shape[0]/2)]\n",
        "# x = np.asarray([i for i in range(img.shape[0])] )\n",
        "# y = np.asarray([i for i in range(img.shape[1])] )\n",
        "x = np.linspace(-int(img.shape[1]/2),int(img.shape[1]/2)-1, img.shape[1])\n",
        "y = np.linspace(-int(img.shape[0]/2),int(img.shape[0]/2)-1, img.shape[0])\n",
        "x,y = np.meshgrid(x,y)"
      ]
    },
    {
      "cell_type": "markdown",
      "metadata": {
        "id": "UgHc5kE9ds2u"
      },
      "source": [
        "Set an initial shape of the curve phi"
      ]
    },
    {
      "cell_type": "code",
      "execution_count": 12,
      "metadata": {
        "id": "avitOHoDds2u"
      },
      "outputs": [],
      "source": [
        "# initial shape\n",
        "# cone in this case. It's level set is a circle\n",
        "phi = np.sqrt((x**2+y**2))-1\n",
        "# phi = phi-np.mean(z)"
      ]
    },
    {
      "cell_type": "markdown",
      "metadata": {
        "id": "A458BYOxds2v"
      },
      "source": [
        "Set the initial shape as the distance from its zero level set"
      ]
    },
    {
      "cell_type": "code",
      "execution_count": 13,
      "metadata": {
        "id": "dSCvCd4xds2x"
      },
      "outputs": [],
      "source": [
        "# phi surface function as distance from level set 0 the the image\n",
        "phi = redistancing(phi)"
      ]
    },
    {
      "cell_type": "markdown",
      "metadata": {
        "id": "JNL4Pngxds2x"
      },
      "source": [
        "Set the velocity F as $F = \\frac{1}{1+||\\nabla I||}$ of the image I"
      ]
    },
    {
      "cell_type": "code",
      "execution_count": 14,
      "metadata": {
        "id": "FFtuwgE4ds2y"
      },
      "outputs": [],
      "source": [
        "# F velocity field according to gradient of mean image\n",
        "F = np.ones(img.shape)\n",
        "F = stopping_fun(img_mean) * v"
      ]
    },
    {
      "cell_type": "markdown",
      "metadata": {
        "id": "kY49qP9Gds20"
      },
      "source": [
        "Frame counters to make the final animation"
      ]
    },
    {
      "cell_type": "code",
      "execution_count": 15,
      "metadata": {
        "id": "ltxG5pD2ds21"
      },
      "outputs": [],
      "source": [
        "#frame count\n",
        "frame_draw = [i*n_iter/frames for i in range(frames+1)]\n",
        "fr_count = 0"
      ]
    },
    {
      "cell_type": "markdown",
      "metadata": {
        "id": "xiv1Wbfgds22"
      },
      "source": [
        "Iteratively update $\\phi$ as $\\phi(x,y,t+\\Delta t) = \\phi(x,y,t) - \\Delta t F||\\nabla\\phi||$"
      ]
    },
    {
      "cell_type": "code",
      "execution_count": 16,
      "metadata": {
        "colab": {
          "base_uri": "https://localhost:8080/"
        },
        "id": "xF54-43-ds22",
        "outputId": "1513f376-58ca-4843-b92f-33cf4a4c5d16"
      },
      "outputs": [
        {
          "name": "stdout",
          "output_type": "stream",
          "text": [
            "Frame number 0\n",
            "Frame number 1\n",
            "Frame number 2\n",
            "Frame number 3\n",
            "Frame number 4\n",
            "Frame number 5\n",
            "Frame number 6\n",
            "Frame number 7\n",
            "Frame number 8\n",
            "Frame number 9\n",
            "Frame number 10\n",
            "Frame number 11\n",
            "Frame number 12\n",
            "Frame number 13\n",
            "Frame number 14\n",
            "Frame number 15\n",
            "Frame number 16\n",
            "Frame number 17\n",
            "Frame number 18\n",
            "Frame number 19\n",
            "Frame number 20\n",
            "Frame number 21\n",
            "Frame number 22\n",
            "Frame number 23\n",
            "Frame number 24\n",
            "Frame number 25\n",
            "Frame number 26\n",
            "Frame number 27\n",
            "Frame number 28\n",
            "Frame number 29\n",
            "Frame number 30\n",
            "Frame number 31\n",
            "Frame number 32\n",
            "Frame number 33\n",
            "Frame number 34\n",
            "Frame number 35\n",
            "Frame number 36\n",
            "Frame number 37\n",
            "Frame number 38\n",
            "Frame number 39\n",
            "Frame number 40\n",
            "Frame number 41\n",
            "Frame number 42\n",
            "Frame number 43\n",
            "Frame number 44\n",
            "Frame number 45\n",
            "Frame number 46\n",
            "Frame number 47\n",
            "Frame number 48\n",
            "Frame number 49\n",
            "Frame number 50\n",
            "Frame number 51\n",
            "Frame number 52\n",
            "Frame number 53\n",
            "Frame number 54\n",
            "Frame number 55\n",
            "Frame number 56\n",
            "Frame number 57\n",
            "Frame number 58\n",
            "Frame number 59\n",
            "Frame number 60\n",
            "Frame number 61\n",
            "Frame number 62\n",
            "Frame number 63\n",
            "Frame number 64\n",
            "Frame number 65\n",
            "Frame number 66\n",
            "Frame number 67\n",
            "Frame number 68\n",
            "Frame number 69\n",
            "Frame number 70\n",
            "Frame number 71\n",
            "Frame number 72\n",
            "Frame number 73\n",
            "Frame number 74\n",
            "Frame number 75\n",
            "Frame number 76\n",
            "Frame number 77\n",
            "Frame number 78\n",
            "Frame number 79\n",
            "Frame number 80\n",
            "Frame number 81\n",
            "Frame number 82\n",
            "Frame number 83\n",
            "Frame number 84\n",
            "Frame number 85\n",
            "Frame number 86\n",
            "Frame number 87\n",
            "Frame number 88\n",
            "Frame number 89\n",
            "Frame number 90\n",
            "Frame number 91\n",
            "Frame number 92\n",
            "Frame number 93\n",
            "Frame number 94\n",
            "Frame number 95\n",
            "Frame number 96\n",
            "Frame number 97\n",
            "Frame number 98\n",
            "Frame number 99\n"
          ]
        }
      ],
      "source": [
        "for i in range(n_iter):\n",
        "    # if redistancing is allowed\n",
        "    if i%redistancing_iter == 0 and allow_redistancing:\n",
        "        phi = redistancing(phi)\n",
        "    # gradient\n",
        "    dphi = grad(phi)\n",
        "    # norm of gradient\n",
        "    dphi_norm = norm(dphi)\n",
        "    phi = phi - dt * ( F * dphi_norm)\n",
        "    # compute the zero level set  \n",
        "    intersection = np.zeros_like(phi)\n",
        "    for k in range(x.shape[0]):\n",
        "        for j in range(y.shape[1]):\n",
        "            intersection[k,j] = intersect(phi[k,j],0,0.5)\n",
        "    mask = np.ma.masked_where(intersection == 0, intersection)\n",
        "\n",
        "    # if the frame count is in the list of frames to be drawn\n",
        "    if i==frame_draw[fr_count]:\n",
        "        # create the 2D plot\n",
        "        fig, axs = plt.subplots(2,2,sharey=True,sharex=True)\n",
        "        axs[0,0].imshow(img, extent=extent, cmap='gray')\n",
        "        axs[0,0].set_title('Original')\n",
        "        axs[0,1].imshow(F, extent=extent, cmap='gray')\n",
        "        axs[0,1].set_title('F')\n",
        "        # axs[0,1].imshow(img_gauss, extent=extent, cmap='gray')\n",
        "        # axs[0,1].set_title('Blurred')\n",
        "        axs[1,0].imshow(phi, extent=extent, cmap='gray')\n",
        "        axs[1,0].set_title('Phi')\n",
        "        axs[1,1].imshow(intersection, extent=extent, cmap='gray')\n",
        "        axs[1,1].set_title('contour')\n",
        "        # plt.show()\n",
        "        plt.savefig(path_contour.format(fr_count))\n",
        "        plt.close()\n",
        "        # create the 3d plot\n",
        "        fig = plt.figure()\n",
        "        ax = plt.axes(projection='3d')\n",
        "        title = ax.set_title('3D Phi')\n",
        "        ax.set_zlim(v_start, v_max)\n",
        "        ax.set_xlim(extent[0], extent[1])\n",
        "        ax.set_ylim(extent[2], extent[3])\n",
        "        ax.plot_surface(x,y,phi,cmap='viridis', edgecolor='none',alpha=0.5)\n",
        "        ax.scatter(x,y,mask,cmap='cool', edgecolor='none')\n",
        "        # plt.show()\n",
        "        plt.savefig(path.format(fr_count))\n",
        "        plt.close()\n",
        "        print(\"Frame number {}\".format(fr_count))\n",
        "        fr_count+=1"
      ]
    },
    {
      "cell_type": "markdown",
      "metadata": {
        "id": "H4H1ezTrds25"
      },
      "source": [
        "Concatenates the images to make a final gif"
      ]
    },
    {
      "cell_type": "code",
      "execution_count": 17,
      "metadata": {
        "id": "9sWelumKds27"
      },
      "outputs": [],
      "source": [
        "# concatenates the frames and make a gif        \n",
        "im_frame = []\n",
        "for c in range(0,frames,step):\n",
        "    im1 = Image.open(path.format(c))\n",
        "    # im1 = im1.resize((1120, 840),)\n",
        "    im2 = Image.open(path_contour.format(c))\n",
        "    # im2 = im2.resize((1120, 840),)\n",
        "    if vertical_concat:\n",
        "        im3 = get_concat_v(im2, im1)\n",
        "    else:\n",
        "        im3 = get_concat_h(im2, im1)\n",
        "    im_frame.append (im3)\n",
        "\n",
        "im_frame[0].save(path_gif, save_all=True, append_images=im_frame[1:], duration=100, loop=0)"
      ]
    },
    {
      "cell_type": "markdown",
      "metadata": {
        "id": "DGaZ8luQds28"
      },
      "source": [
        "Show the final animation. Change the markdown to the correct path of the gif "
      ]
    },
    {
      "cell_type": "markdown",
      "metadata": {
        "id": "soiBxoQOds28"
      },
      "source": [
        "# <img src='out.gif' width=\"1000\" align=\"center\">"
      ]
    }
  ],
  "metadata": {
    "colab": {
      "collapsed_sections": [],
      "name": "Colab level set notebook.ipynb",
      "provenance": []
    },
    "interpreter": {
      "hash": "3a105cd057da3290f2142da5d372413b664f0fa25b49ba6fb4add6658ff87719"
    },
    "kernelspec": {
      "display_name": "Python 3.8",
      "language": "python",
      "name": "py38"
    },
    "language_info": {
      "codemirror_mode": {
        "name": "ipython",
        "version": 3.8
      },
      "file_extension": ".py",
      "mimetype": "text/x-python",
      "name": "python",
      "nbconvert_exporter": "python",
      "pygments_lexer": "ipython3",
      "version": "3.8.10"
    },
    "orig_nbformat": 4
  },
  "nbformat": 4,
  "nbformat_minor": 0
}
