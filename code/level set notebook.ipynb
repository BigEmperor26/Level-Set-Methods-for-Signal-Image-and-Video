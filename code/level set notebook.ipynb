{
 "cells": [
  {
   "cell_type": "markdown",
   "metadata": {},
   "source": [
    "# level set notebook\n",
    "\n",
    "with redistancing for image segmentation-contour detection.\n",
    "Computes a level set doing redistancing as the signed distance function. The F velocity is proportional to the gradient of image this. The level set stops at the edges of the image.\n"
   ]
  },
  {
   "cell_type": "markdown",
   "metadata": {},
   "source": [
    "## Requirements!\n",
    "- Python 3.8\n",
    "- numpy 1.21.5\n",
    "- opencv-python-4.5.5.64\n",
    "- scipy-1.8.0\n",
    "- skfmm 2022.3.26\n",
    "- Pillow 9.0.0\n",
    "- matplotlib 3.5.1\n",
    "\n",
    "To install these if you don't have run\n",
    "```\n",
    "pip install numpy\n",
    "pip install python-opencv\n",
    "pip install cipy\n",
    "pip install scikit-fmm\n",
    "pip install Pillow\n",
    "pip install matplotlib\n",
    "```\n",
    "\n",
    "**Warning.** Colab by default uses python 3.7 which is unsupported in this code"
   ]
  },
  {
   "cell_type": "markdown",
   "metadata": {},
   "source": [
    "Import of the basic libraries that are used"
   ]
  },
  {
   "cell_type": "code",
   "execution_count": 65,
   "metadata": {},
   "outputs": [],
   "source": [
    "import numpy as np\n",
    "import matplotlib.pyplot as plt\n",
    "import cv2 as cv\n",
    "from PIL import Image\n",
    "from scipy import ndimage\n",
    "import skfmm"
   ]
  },
  {
   "cell_type": "markdown",
   "metadata": {},
   "source": [
    "Parameters to set"
   ]
  },
  {
   "cell_type": "code",
   "execution_count": 66,
   "metadata": {},
   "outputs": [],
   "source": [
    "\n",
    "# path of the image to analyse\n",
    "path_source = '../images/test images/water_coins.jpg'\n",
    "# path where to save the 3D frames\n",
    "path = '../images/water coins/image 3D{}.png'\n",
    "# path where to save the 2D frames of contour\n",
    "path_contour = '../images/water coins/image contour{}.png'\n",
    "# path where to save the gif\n",
    "path_gif = '../images/water coins/out.gif'\n",
    "# vertical starting point for the 3d plot\n",
    "v_start = 0\n",
    "# vertical max value for the 3d plot\n",
    "v_max = 100\n",
    "# number of iterations to run the level set propagation\n",
    "n_iter = 200\n",
    "# number of frames to be generated\n",
    "frames = 100\n",
    "#step how many frames to skip for the animation\n",
    "step = 1\n",
    "# delta t of time of the level set propagation\n",
    "dt = 0.05\n",
    "# velocity that multiplies F(x,y)\n",
    "v = 20.0\n",
    "# how many iterations to wait before performing redistancing\n",
    "redistancing_iter = 10\n",
    "# allow redistancing or not\n",
    "allow_redistancing = True\n",
    "# vertical or horizontal concatenation. True vertical, False horizontal\n",
    "vertical_concat = False"
   ]
  },
  {
   "cell_type": "markdown",
   "metadata": {},
   "source": [
    "Basic mathematical functions"
   ]
  },
  {
   "cell_type": "code",
   "execution_count": 67,
   "metadata": {},
   "outputs": [],
   "source": [
    "# gradient of the image. \n",
    "# Calculated using the central difference method using a high degree of approxximation\n",
    "# reminder, the gradient of a image is performed in two dimension\n",
    "def grad(x):\n",
    "    grad = np.array(np.gradient(x,edge_order=2))\n",
    "    return grad\n",
    "# norm of the gradient\n",
    "def norm(x, axis=0):\n",
    "    return np.sqrt(np.sum(np.square(x), axis=axis))"
   ]
  },
  {
   "cell_type": "markdown",
   "metadata": {},
   "source": [
    "Function to perform redistancing according to Fast Marching Methods\n",
    "$\\phi = sign(\\phi)(1-||\\nabla\\phi||)$"
   ]
  },
  {
   "cell_type": "code",
   "execution_count": 68,
   "metadata": {},
   "outputs": [],
   "source": [
    "# function to perform redistancing\n",
    "# uses the skfmm library to perform the redistancing using fast marching method\n",
    "def redistancing(phi):\n",
    "    sd = skfmm.distance(phi, dx = 1)\n",
    "    return sd"
   ]
  },
  {
   "cell_type": "markdown",
   "metadata": {},
   "source": [
    "Compute the c level set or intersection of a curve phi."
   ]
  },
  {
   "cell_type": "code",
   "execution_count": 69,
   "metadata": {},
   "outputs": [],
   "source": [
    "\n",
    "# compute the intersection of the level set and the curve phi\n",
    "# eps is to prevent numerical errors\n",
    "def intersect(phi,c,eps):\n",
    "    if phi <= c+eps and phi >=c-eps:\n",
    "        return 1\n",
    "    else:\n",
    "        return 0  "
   ]
  },
  {
   "cell_type": "markdown",
   "metadata": {},
   "source": [
    "Use compute F according to $F = \\frac{1}{1+||\\nabla I||}$"
   ]
  },
  {
   "cell_type": "code",
   "execution_count": 70,
   "metadata": {},
   "outputs": [],
   "source": [
    "# stopping function for the level set. \n",
    "def stopping_fun(x):\n",
    "    return 1. / (1. + norm(grad(x))**2)"
   ]
  },
  {
   "cell_type": "markdown",
   "metadata": {},
   "source": [
    "Functions to concatenate images"
   ]
  },
  {
   "cell_type": "code",
   "execution_count": 71,
   "metadata": {},
   "outputs": [],
   "source": [
    "# concatenate the frames either horizontally or vertically\n",
    "def get_concat_h(im1, im2):\n",
    "    dst = Image.new('RGB', (im1.width + im2.width, im1.height))\n",
    "    dst.paste(im1, (0, 0))\n",
    "    dst.paste(im2, (im1.width, 0))\n",
    "    return dst\n",
    "\n",
    "def get_concat_v(im1, im2):\n",
    "    dst = Image.new('RGB', (im1.width, im1.height + im2.height))\n",
    "    dst.paste(im1, (0, 0))\n",
    "    dst.paste(im2, (0, im1.height))\n",
    "    return dst"
   ]
  },
  {
   "cell_type": "markdown",
   "metadata": {},
   "source": [
    "Get the image and do some basic pre processing"
   ]
  },
  {
   "cell_type": "code",
   "execution_count": 72,
   "metadata": {},
   "outputs": [],
   "source": [
    "# get the image in grayscale\n",
    "img = cv.imread(path_source)\n",
    "img = cv.cvtColor(img, cv.COLOR_RGB2GRAY)\n",
    "# apply gaussian filter to img\n",
    "img_gauss = ndimage.gaussian_filter(img, sigma=1)\n",
    "# center on the mean\n",
    "img_mean = img_gauss - np.mean(img_gauss)"
   ]
  },
  {
   "cell_type": "markdown",
   "metadata": {},
   "source": [
    "Set the x and y axis to the size of the image.\n",
    "x and y are a a np.mesh, which is similar to a cartesian grid"
   ]
  },
  {
   "cell_type": "code",
   "execution_count": 73,
   "metadata": {},
   "outputs": [],
   "source": [
    "# limits of the mesh, x start, x end, y start, y end \n",
    "limits = [-int(img.shape[1]/2),int(img.shape[1]/2),-int(img.shape[0]/2),int(img.shape[0]/2)]\n",
    "# extend to plot\n",
    "extent = [-int(img.shape[1]/2),int(img.shape[1]/2),-int(img.shape[0]/2),int(img.shape[0]/2)]\n",
    "# x = np.asarray([i for i in range(img.shape[0])] )\n",
    "# y = np.asarray([i for i in range(img.shape[1])] )\n",
    "x = np.linspace(-int(img.shape[1]/2),int(img.shape[1]/2)-1, img.shape[1])\n",
    "y = np.linspace(-int(img.shape[0]/2),int(img.shape[0]/2)-1, img.shape[0])\n",
    "x,y = np.meshgrid(x,y)"
   ]
  },
  {
   "cell_type": "markdown",
   "metadata": {},
   "source": [
    "Set an initial shape of the curve phi"
   ]
  },
  {
   "cell_type": "code",
   "execution_count": 74,
   "metadata": {},
   "outputs": [],
   "source": [
    "# initial shape\n",
    "# cone in this case. It's level set is a circle\n",
    "phi = np.sqrt((x**2+y**2))-1\n",
    "# phi = phi-np.mean(z)"
   ]
  },
  {
   "cell_type": "markdown",
   "metadata": {},
   "source": [
    "Set the initial shape as the distance from its zero level set"
   ]
  },
  {
   "cell_type": "code",
   "execution_count": 75,
   "metadata": {},
   "outputs": [],
   "source": [
    "# phi surface function as distance from level set 0 the the image\n",
    "phi = redistancing(phi)"
   ]
  },
  {
   "cell_type": "markdown",
   "metadata": {},
   "source": [
    "Set the velocity F as $F = \\frac{1}{1+||\\nabla I||}$ of the image I"
   ]
  },
  {
   "cell_type": "code",
   "execution_count": 76,
   "metadata": {},
   "outputs": [],
   "source": [
    "# F velocity field according to gradient of mean image\n",
    "F = np.ones(img.shape)\n",
    "F = stopping_fun(img_mean) * v"
   ]
  },
  {
   "cell_type": "markdown",
   "metadata": {},
   "source": [
    "Frame counters to make the final animation"
   ]
  },
  {
   "cell_type": "code",
   "execution_count": 77,
   "metadata": {},
   "outputs": [],
   "source": [
    "#frame count\n",
    "frame_draw = [i*n_iter/frames for i in range(frames+1)]\n",
    "fr_count = 0"
   ]
  },
  {
   "cell_type": "markdown",
   "metadata": {},
   "source": [
    "Iteratively update $\\phi$ as $\\phi(x,y,t+\\Delta t) = \\phi(x,y,t) - \\Delta t F||\\nabla\\phi||$"
   ]
  },
  {
   "cell_type": "code",
   "execution_count": 78,
   "metadata": {},
   "outputs": [
    {
     "name": "stdout",
     "output_type": "stream",
     "text": [
      "Frame number 0\n",
      "Frame number 1\n",
      "Frame number 2\n",
      "Frame number 3\n",
      "Frame number 4\n",
      "Frame number 5\n",
      "Frame number 6\n",
      "Frame number 7\n",
      "Frame number 8\n",
      "Frame number 9\n",
      "Frame number 10\n",
      "Frame number 11\n",
      "Frame number 12\n",
      "Frame number 13\n",
      "Frame number 14\n",
      "Frame number 15\n",
      "Frame number 16\n",
      "Frame number 17\n",
      "Frame number 18\n",
      "Frame number 19\n",
      "Frame number 20\n",
      "Frame number 21\n",
      "Frame number 22\n",
      "Frame number 23\n",
      "Frame number 24\n",
      "Frame number 25\n",
      "Frame number 26\n",
      "Frame number 27\n",
      "Frame number 28\n",
      "Frame number 29\n",
      "Frame number 30\n",
      "Frame number 31\n",
      "Frame number 32\n",
      "Frame number 33\n",
      "Frame number 34\n",
      "Frame number 35\n",
      "Frame number 36\n",
      "Frame number 37\n",
      "Frame number 38\n",
      "Frame number 39\n",
      "Frame number 40\n",
      "Frame number 41\n",
      "Frame number 42\n",
      "Frame number 43\n",
      "Frame number 44\n",
      "Frame number 45\n",
      "Frame number 46\n",
      "Frame number 47\n",
      "Frame number 48\n",
      "Frame number 49\n",
      "Frame number 50\n",
      "Frame number 51\n",
      "Frame number 52\n",
      "Frame number 53\n",
      "Frame number 54\n",
      "Frame number 55\n",
      "Frame number 56\n",
      "Frame number 57\n",
      "Frame number 58\n",
      "Frame number 59\n",
      "Frame number 60\n",
      "Frame number 61\n",
      "Frame number 62\n",
      "Frame number 63\n",
      "Frame number 64\n",
      "Frame number 65\n",
      "Frame number 66\n",
      "Frame number 67\n",
      "Frame number 68\n",
      "Frame number 69\n",
      "Frame number 70\n",
      "Frame number 71\n",
      "Frame number 72\n",
      "Frame number 73\n",
      "Frame number 74\n",
      "Frame number 75\n",
      "Frame number 76\n",
      "Frame number 77\n",
      "Frame number 78\n",
      "Frame number 79\n",
      "Frame number 80\n",
      "Frame number 81\n",
      "Frame number 82\n",
      "Frame number 83\n",
      "Frame number 84\n",
      "Frame number 85\n",
      "Frame number 86\n",
      "Frame number 87\n",
      "Frame number 88\n",
      "Frame number 89\n",
      "Frame number 90\n",
      "Frame number 91\n",
      "Frame number 92\n",
      "Frame number 93\n",
      "Frame number 94\n",
      "Frame number 95\n",
      "Frame number 96\n",
      "Frame number 97\n",
      "Frame number 98\n",
      "Frame number 99\n"
     ]
    }
   ],
   "source": [
    "for i in range(n_iter):\n",
    "    # if redistancing is allowed\n",
    "    if i%redistancing_iter == 0 and allow_redistancing:\n",
    "        phi = redistancing(phi)\n",
    "    # gradient\n",
    "    dphi = grad(phi)\n",
    "    # norm of gradient\n",
    "    dphi_norm = norm(dphi)\n",
    "    phi = phi - dt * ( F * dphi_norm)\n",
    "    # compute the zero level set  \n",
    "    intersection = np.zeros_like(phi)\n",
    "    for k in range(x.shape[0]):\n",
    "        for j in range(y.shape[1]):\n",
    "            intersection[k,j] = intersect(phi[k,j],0,0.5)\n",
    "    mask = np.ma.masked_where(intersection == 0, intersection)\n",
    "\n",
    "    # if the frame count is in the list of frames to be drawn\n",
    "    if i==frame_draw[fr_count]:\n",
    "        # create the 2D plot\n",
    "        fig, axs = plt.subplots(2,2,sharey=True,sharex=True)\n",
    "        axs[0,0].imshow(img, extent=extent, cmap='gray')\n",
    "        axs[0,0].set_title('Original')\n",
    "        axs[0,1].imshow(F, extent=extent, cmap='gray')\n",
    "        axs[0,1].set_title('F')\n",
    "        # axs[0,1].imshow(img_gauss, extent=extent, cmap='gray')\n",
    "        # axs[0,1].set_title('Blurred')\n",
    "        axs[1,0].imshow(phi, extent=extent, cmap='gray')\n",
    "        axs[1,0].set_title('Phi')\n",
    "        axs[1,1].imshow(intersection, extent=extent, cmap='gray')\n",
    "        axs[1,1].set_title('contour')\n",
    "        # plt.show()\n",
    "        plt.savefig(path_contour.format(fr_count))\n",
    "        plt.close()\n",
    "        # create the 3d plot\n",
    "        fig = plt.figure()\n",
    "        ax = plt.axes(projection='3d')\n",
    "        title = ax.set_title('3D Phi')\n",
    "        ax.set_zlim(v_start, v_max)\n",
    "        ax.set_xlim(extent[0], extent[1])\n",
    "        ax.set_ylim(extent[2], extent[3])\n",
    "        ax.plot_surface(x,y,phi,cmap='viridis', edgecolor='none',alpha=0.5)\n",
    "        ax.scatter(x,y,mask,cmap='cool', edgecolor='none')\n",
    "        # plt.show()\n",
    "        plt.savefig(path.format(fr_count))\n",
    "        plt.close()\n",
    "        print(\"Frame number {}\".format(fr_count))\n",
    "        fr_count+=1"
   ]
  },
  {
   "cell_type": "markdown",
   "metadata": {},
   "source": [
    "Concatenates the images to make a final gif"
   ]
  },
  {
   "cell_type": "code",
   "execution_count": 82,
   "metadata": {},
   "outputs": [],
   "source": [
    "# concatenates the frames and make a gif        \n",
    "im_frame = []\n",
    "for c in range(0,frames,step):\n",
    "    im1 = Image.open(path.format(c))\n",
    "    # im1 = im1.resize((1120, 840),)\n",
    "    im2 = Image.open(path_contour.format(c))\n",
    "    # im2 = im2.resize((1120, 840),)\n",
    "    if vertical_concat:\n",
    "        im3 = get_concat_v(im2, im1)\n",
    "    else:\n",
    "        im3 = get_concat_h(im2, im1)\n",
    "    im_frame.append (im3)\n",
    "\n",
    "im_frame[0].save(path_gif, save_all=True, append_images=im_frame[1:], duration=100, loop=0)"
   ]
  },
  {
   "cell_type": "markdown",
   "metadata": {},
   "source": [
    "Show the final animation. Change the markdown to the correct path of the gif "
   ]
  },
  {
   "cell_type": "markdown",
   "metadata": {},
   "source": [
    "<img src='../images/brain tumor/out.gif' width=\"1000\" align=\"center\">"
   ]
  }
 ],
 "metadata": {
  "interpreter": {
   "hash": "3a105cd057da3290f2142da5d372413b664f0fa25b49ba6fb4add6658ff87719"
  },
  "kernelspec": {
   "display_name": "Python 3.10.2 64-bit",
   "language": "python",
   "name": "python3"
  },
  "language_info": {
   "codemirror_mode": {
    "name": "ipython",
    "version": 3
   },
   "file_extension": ".py",
   "mimetype": "text/x-python",
   "name": "python",
   "nbconvert_exporter": "python",
   "pygments_lexer": "ipython3",
   "version": "3.8.10"
  },
  "orig_nbformat": 4
 },
 "nbformat": 4,
 "nbformat_minor": 2
}
